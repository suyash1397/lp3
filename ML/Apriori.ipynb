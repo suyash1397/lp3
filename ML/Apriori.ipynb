{
 "cells": [
  {
   "cell_type": "code",
   "execution_count": null,
   "id": "c3ed6732-af3b-45aa-88da-999709df33d1",
   "metadata": {},
   "outputs": [],
   "source": [
    "# Implementing market basket analysis\n",
    "#Loading neccesary packages\n",
    "import numpy as np\n",
    "import pandas as pd\n",
    "from mlxtend.frequent_patterns import apriori\n",
    "from mlxtend.frequent_patterns import association_rules\n",
    "myretaildata = pd.read_excel('http://archive.ics.uci.edu/ml/machine-learning-databases/00352/Online%20Retail.xlsx')\n",
    "myretaildata.head()"
   ]
  },
  {
   "cell_type": "code",
   "execution_count": null,
   "id": "78e2209e-593d-40e7-9500-fbe432a6ded1",
   "metadata": {},
   "outputs": [],
   "source": [
    "#Data Cleaning\n",
    "myretaildata['Description'] = myretaildata['Description'].str.strip() #removes spaces from beginning and end\n",
    "myretaildata.dropna(axis=0, subset=['InvoiceNo'], inplace=True) #removes duplicate invoice\n",
    "myretaildata['InvoiceNo'] = myretaildata['InvoiceNo'].astype('str') #converting invoice number to be string\n",
    "myretaildata = myretaildata[~myretaildata['InvoiceNo'].str.contains('C')] #remove the credit transactions \n",
    "myretaildata.head()\n",
    "myretaildata['Country'].value_counts()"
   ]
  },
  {
   "cell_type": "code",
   "execution_count": null,
   "id": "8ea5e027-8027-47b9-ac1c-adad6376c263",
   "metadata": {},
   "outputs": [],
   "source": [
    "mybasket = (myretaildata[myretaildata['Country'] ==\"Germany\"]\n",
    "          .groupby(['InvoiceNo', 'Description'])['Quantity']\n",
    "          .sum().unstack().reset_index().fillna(0)\n",
    "          .set_index('InvoiceNo'))\n",
    "#viewing transaction basket\n",
    "mybasket.head()\n",
    "#converting all positive vaues to 1 and everything else to 0\n",
    "def my_encode_units(x):\n",
    "    if x <= 0:\n",
    "        return 0\n",
    "    if x >= 1:\n",
    "        return 1"
   ]
  },
  {
   "cell_type": "code",
   "execution_count": null,
   "id": "f9dcb796-f0ea-45c0-947c-fef20c621cf4",
   "metadata": {},
   "outputs": [],
   "source": [
    "my_basket_sets = mybasket.applymap(my_encode_units)\n",
    "my_basket_sets.drop('POSTAGE', inplace=True, axis=1) #Remove \"postage\" as an item\n",
    "# Training Model\n",
    "#Generatig frequent itemsets\n",
    "my_frequent_itemsets = apriori(my_basket_sets, min_support=0.07, use_colnames=True)\n",
    "#generating rules\n",
    "my_rules = association_rules(my_frequent_itemsets, metric=\"lift\", min_threshold=1)\n",
    "#viewing top 100 rules\n",
    "my_rules.head(100)\n",
    "# Making reecommendations\n",
    "my_basket_sets['ROUND SNACK BOXES SET OF4 WOODLAND'].sum()\n",
    "my_basket_sets['SPACEBOY LUNCH BOX'].sum()\n",
    "\n",
    "#Filtering rules based on condition\n",
    "my_rules[ (my_rules['lift'] >= 3) &\n",
    "       (my_rules['confidence'] >= 0.3) ]"
   ]
  },
  {
   "cell_type": "code",
   "execution_count": null,
   "id": "9a89d708-0599-4d06-9bce-7d396edd185d",
   "metadata": {},
   "outputs": [],
   "source": []
  }
 ],
 "metadata": {
  "kernelspec": {
   "display_name": "Python 3 (ipykernel)",
   "language": "python",
   "name": "python3"
  },
  "language_info": {
   "codemirror_mode": {
    "name": "ipython",
    "version": 3
   },
   "file_extension": ".py",
   "mimetype": "text/x-python",
   "name": "python",
   "nbconvert_exporter": "python",
   "pygments_lexer": "ipython3",
   "version": "3.11.4"
  }
 },
 "nbformat": 4,
 "nbformat_minor": 5
}
