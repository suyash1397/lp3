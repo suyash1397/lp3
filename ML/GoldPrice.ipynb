{
 "cells": [
  {
   "cell_type": "code",
   "execution_count": 26,
   "id": "3c09d771",
   "metadata": {},
   "outputs": [],
   "source": [
    "import numpy as np\n",
    "import pandas as pd\n",
    "import seaborn as sns\n",
    "import matplotlib.pyplot as plt\n",
    "import plotly.express as px\n",
    "from plotly import figure_factory as figfac\n",
    "from termcolor import colored\n",
    "\n",
    "from tensorflow.keras.models import Sequential\n",
    "from tensorflow.keras.layers import Dense, Dropout,LSTM\n",
    "from sklearn.preprocessing import MinMaxScaler, StandardScaler\n",
    "import math\n",
    "from sklearn.metrics import mean_squared_error\n",
    "#!pip install keras-tuner --upgrade\n",
    "from kerastuner.engine.hyperparameters import HyperParameters\n",
    "from tensorflow import keras\n",
    "from tensorflow.keras import layers\n",
    "from kerastuner.tuners import RandomSearch\n",
    "\n",
    "# to ignore warnings\n",
    "import warnings\n",
    "warnings.filterwarnings(\"ignore\")"
   ]
  },
  {
   "cell_type": "code",
   "execution_count": 27,
   "id": "c474d42b",
   "metadata": {},
   "outputs": [],
   "source": [
    "df = pd.read_csv(\"gold.csv\")\n"
   ]
  },
  {
   "cell_type": "code",
   "execution_count": 28,
   "id": "ecdb65b7",
   "metadata": {},
   "outputs": [],
   "source": [
    "df.rename(columns = {\"Date\" : \"date\", \"Open\" : \"open\", \"High\" : \"high\", \"Low\" : \"low\",\n",
    "                     \"Close\" : \"close\", \"Volume\" : \"volume\", \"Currency\" : \"currency\"}, inplace = True)"
   ]
  },
  {
   "cell_type": "code",
   "execution_count": 29,
   "id": "742cd083",
   "metadata": {},
   "outputs": [
    {
     "data": {
      "text/html": [
       "<div>\n",
       "<style scoped>\n",
       "    .dataframe tbody tr th:only-of-type {\n",
       "        vertical-align: middle;\n",
       "    }\n",
       "\n",
       "    .dataframe tbody tr th {\n",
       "        vertical-align: top;\n",
       "    }\n",
       "\n",
       "    .dataframe thead th {\n",
       "        text-align: right;\n",
       "    }\n",
       "</style>\n",
       "<table border=\"1\" class=\"dataframe\">\n",
       "  <thead>\n",
       "    <tr style=\"text-align: right;\">\n",
       "      <th></th>\n",
       "      <th>close</th>\n",
       "    </tr>\n",
       "  </thead>\n",
       "  <tbody>\n",
       "    <tr>\n",
       "      <th>0</th>\n",
       "      <td>283.7</td>\n",
       "    </tr>\n",
       "    <tr>\n",
       "      <th>1</th>\n",
       "      <td>282.1</td>\n",
       "    </tr>\n",
       "    <tr>\n",
       "      <th>2</th>\n",
       "      <td>282.4</td>\n",
       "    </tr>\n",
       "    <tr>\n",
       "      <th>3</th>\n",
       "      <td>282.9</td>\n",
       "    </tr>\n",
       "    <tr>\n",
       "      <th>4</th>\n",
       "      <td>282.7</td>\n",
       "    </tr>\n",
       "  </tbody>\n",
       "</table>\n",
       "</div>"
      ],
      "text/plain": [
       "   close\n",
       "0  283.7\n",
       "1  282.1\n",
       "2  282.4\n",
       "3  282.9\n",
       "4  282.7"
      ]
     },
     "execution_count": 29,
     "metadata": {},
     "output_type": "execute_result"
    }
   ],
   "source": [
    "data = df.filter(['close'])\n",
    "data.head()"
   ]
  },
  {
   "cell_type": "code",
   "execution_count": 30,
   "id": "72cee03c",
   "metadata": {},
   "outputs": [
    {
     "data": {
      "text/plain": [
       "array([[283.7],\n",
       "       [282.1],\n",
       "       [282.4],\n",
       "       [282.9],\n",
       "       [282.7]])"
      ]
     },
     "execution_count": 30,
     "metadata": {},
     "output_type": "execute_result"
    }
   ],
   "source": [
    "dataset = data.values\n",
    "dataset[0:5]"
   ]
  },
  {
   "cell_type": "code",
   "execution_count": 31,
   "id": "06551b30",
   "metadata": {},
   "outputs": [
    {
     "name": "stdout",
     "output_type": "stream",
     "text": [
      "Training data length:  5418\n"
     ]
    }
   ],
   "source": [
    "training_data_len = int(np.ceil( len(dataset) * .95 ))\n",
    "print(\"Training data length: \", training_data_len)"
   ]
  },
  {
   "cell_type": "code",
   "execution_count": 32,
   "id": "7223510c",
   "metadata": {},
   "outputs": [
    {
     "data": {
      "text/plain": [
       "array([[0.01494925],\n",
       "       [0.01406664],\n",
       "       [0.01423213],\n",
       "       ...,\n",
       "       [0.81067961],\n",
       "       [0.80135702],\n",
       "       [0.80891439]])"
      ]
     },
     "execution_count": 32,
     "metadata": {},
     "output_type": "execute_result"
    }
   ],
   "source": [
    "scaler = MinMaxScaler(feature_range = (0, 1))\n",
    "scaled_data = scaler.fit_transform(dataset)\n",
    "scaled_data"
   ]
  },
  {
   "cell_type": "code",
   "execution_count": 33,
   "id": "49b1ac2a",
   "metadata": {},
   "outputs": [
    {
     "name": "stdout",
     "output_type": "stream",
     "text": [
      "[array([0.01494925, 0.01406664, 0.01423213, 0.01450794, 0.01439762,\n",
      "       0.01533539, 0.01494925, 0.01572154, 0.01561121, 0.01820388,\n",
      "       0.01859003, 0.01803839, 0.01825905, 0.01737643, 0.01654898,\n",
      "       0.01649382, 0.0168248 , 0.01621801, 0.01632833, 0.01588703,\n",
      "       0.01715578, 0.01836937, 0.03111209, 0.02642321, 0.02487864,\n",
      "       0.02868491, 0.0342564 , 0.03144307, 0.03000883, 0.02620256,\n",
      "       0.02669903, 0.02603707, 0.02796778, 0.02818844, 0.02526478,\n",
      "       0.02443733, 0.02096205, 0.02074139, 0.02074139, 0.02024492,\n",
      "       0.01825905, 0.01859003, 0.01809356, 0.02046558, 0.01864519,\n",
      "       0.01991395, 0.01842454, 0.01925199, 0.01825905, 0.01820388,\n",
      "       0.01676964, 0.01566637, 0.01649382, 0.01864519, 0.01748676,\n",
      "       0.01588703, 0.01572154, 0.01318402, 0.01263239, 0.01064651])] \n",
      "\n",
      "[0.012411738746690215]\n",
      "[array([0.01494925, 0.01406664, 0.01423213, 0.01450794, 0.01439762,\n",
      "       0.01533539, 0.01494925, 0.01572154, 0.01561121, 0.01820388,\n",
      "       0.01859003, 0.01803839, 0.01825905, 0.01737643, 0.01654898,\n",
      "       0.01649382, 0.0168248 , 0.01621801, 0.01632833, 0.01588703,\n",
      "       0.01715578, 0.01836937, 0.03111209, 0.02642321, 0.02487864,\n",
      "       0.02868491, 0.0342564 , 0.03144307, 0.03000883, 0.02620256,\n",
      "       0.02669903, 0.02603707, 0.02796778, 0.02818844, 0.02526478,\n",
      "       0.02443733, 0.02096205, 0.02074139, 0.02074139, 0.02024492,\n",
      "       0.01825905, 0.01859003, 0.01809356, 0.02046558, 0.01864519,\n",
      "       0.01991395, 0.01842454, 0.01925199, 0.01825905, 0.01820388,\n",
      "       0.01676964, 0.01566637, 0.01649382, 0.01864519, 0.01748676,\n",
      "       0.01588703, 0.01572154, 0.01318402, 0.01263239, 0.01064651]), array([0.01406664, 0.01423213, 0.01450794, 0.01439762, 0.01533539,\n",
      "       0.01494925, 0.01572154, 0.01561121, 0.01820388, 0.01859003,\n",
      "       0.01803839, 0.01825905, 0.01737643, 0.01654898, 0.01649382,\n",
      "       0.0168248 , 0.01621801, 0.01632833, 0.01588703, 0.01715578,\n",
      "       0.01836937, 0.03111209, 0.02642321, 0.02487864, 0.02868491,\n",
      "       0.0342564 , 0.03144307, 0.03000883, 0.02620256, 0.02669903,\n",
      "       0.02603707, 0.02796778, 0.02818844, 0.02526478, 0.02443733,\n",
      "       0.02096205, 0.02074139, 0.02074139, 0.02024492, 0.01825905,\n",
      "       0.01859003, 0.01809356, 0.02046558, 0.01864519, 0.01991395,\n",
      "       0.01842454, 0.01925199, 0.01825905, 0.01820388, 0.01676964,\n",
      "       0.01566637, 0.01649382, 0.01864519, 0.01748676, 0.01588703,\n",
      "       0.01572154, 0.01318402, 0.01263239, 0.01064651, 0.01241174])] \n",
      "\n",
      "[0.012411738746690215, 0.013680494263018511]\n"
     ]
    }
   ],
   "source": [
    "# Create the training data set \n",
    "# Create the scaled training data set\n",
    "train_data = scaled_data[0:int(training_data_len), :]\n",
    "# Split the data into x_train and y_train data sets\n",
    "x_train = []\n",
    "y_train = []\n",
    "\n",
    "for i in range(60, len(train_data)):\n",
    "    x_train.append(train_data[i-60:i, 0])\n",
    "    y_train.append(train_data[i, 0])\n",
    "    if i<= 61:\n",
    "        print(x_train, \"\\n\")\n",
    "        print(y_train)"
   ]
  },
  {
   "cell_type": "code",
   "execution_count": 34,
   "id": "62051093",
   "metadata": {},
   "outputs": [],
   "source": [
    "x_train = np.array(x_train)\n",
    "y_train = np.array(y_train)"
   ]
  },
  {
   "cell_type": "code",
   "execution_count": 35,
   "id": "12ebdee9",
   "metadata": {},
   "outputs": [
    {
     "name": "stdout",
     "output_type": "stream",
     "text": [
      "The sape of x_train set: (5358, 60, 1)\n"
     ]
    }
   ],
   "source": [
    "x_train = np.reshape(x_train, (x_train.shape[0], x_train.shape[1], 1))\n",
    "print(\"The sape of x_train set:\", x_train.shape)"
   ]
  },
  {
   "cell_type": "code",
   "execution_count": null,
   "id": "b2f1c6bf",
   "metadata": {},
   "outputs": [
    {
     "name": "stdout",
     "output_type": "stream",
     "text": [
      "1899/5358 [=========>....................] - ETA: 2:08 - loss: 0.0012"
     ]
    }
   ],
   "source": [
    "from keras.models import Sequential\n",
    "from keras.layers import Dense, LSTM\n",
    "\n",
    "model = Sequential()\n",
    "model.add(LSTM(128, return_sequences = True, input_shape = (x_train.shape[1], 1)))\n",
    "model.add(LSTM(64, return_sequences = False))\n",
    "model.add(Dense(25))\n",
    "model.add(Dense(1))\n",
    "\n",
    "model.compile(optimizer = \"adam\", loss = \"mean_squared_error\")\n",
    "\n",
    "model.fit(x_train, y_train, batch_size = 1, epochs = 1)"
   ]
  },
  {
   "cell_type": "code",
   "execution_count": null,
   "id": "26a73fc4",
   "metadata": {},
   "outputs": [],
   "source": [
    "# Create the testing data set\n",
    "# Create a new array containing scaled values from index 1543 to 2002 \n",
    "test_data = scaled_data[training_data_len - 60: , :]\n",
    "# Create the data sets x_test and y_test\n",
    "x_test = []\n",
    "y_test = dataset[training_data_len:, :]\n",
    "for i in range(60, len(test_data)):\n",
    "    x_test.append(test_data[i-60:i, 0])"
   ]
  },
  {
   "cell_type": "code",
   "execution_count": null,
   "id": "33cd9075",
   "metadata": {},
   "outputs": [],
   "source": [
    "x_test = np.array(x_test)\n",
    "x_test = np.reshape(x_test, (x_test.shape[0], x_test.shape[1], 1 ))"
   ]
  },
  {
   "cell_type": "code",
   "execution_count": null,
   "id": "817830ef",
   "metadata": {},
   "outputs": [],
   "source": [
    "predictions = model.predict(x_test)\n",
    "predictions = scaler.inverse_transform(predictions)\n",
    "predictions[0:10]"
   ]
  },
  {
   "cell_type": "code",
   "execution_count": null,
   "id": "1e7929af",
   "metadata": {},
   "outputs": [],
   "source": [
    "rmse = np.sqrt(np.mean(((predictions - y_test) ** 2)))\n",
    "print(\"RMSE score of the model:\", rmse)"
   ]
  },
  {
   "cell_type": "code",
   "execution_count": null,
   "id": "ff9c3264",
   "metadata": {},
   "outputs": [],
   "source": [
    "train = data[:training_data_len]\n",
    "valid = data[training_data_len:]\n",
    "valid['Predictions'] = predictions\n",
    "# Visualize the data\n",
    "plt.figure(figsize=(16,6))\n",
    "plt.title('Model')\n",
    "plt.xlabel('Date', fontsize=18)\n",
    "plt.ylabel('Close Price USD ($)', fontsize=18)\n",
    "plt.plot(train['close'])\n",
    "plt.plot(valid[['close', 'Predictions']])\n",
    "plt.legend(['Train', 'Val', 'Predictions'], loc = 'lower right')\n",
    "plt.show()"
   ]
  },
  {
   "cell_type": "code",
   "execution_count": null,
   "id": "572b3244",
   "metadata": {},
   "outputs": [],
   "source": [
    "valid.head(n = 10)"
   ]
  },
  {
   "cell_type": "code",
   "execution_count": null,
   "id": "35c75c37",
   "metadata": {},
   "outputs": [],
   "source": []
  }
 ],
 "metadata": {
  "kernelspec": {
   "display_name": "Python 3 (ipykernel)",
   "language": "python",
   "name": "python3"
  },
  "language_info": {
   "codemirror_mode": {
    "name": "ipython",
    "version": 3
   },
   "file_extension": ".py",
   "mimetype": "text/x-python",
   "name": "python",
   "nbconvert_exporter": "python",
   "pygments_lexer": "ipython3",
   "version": "3.10.9"
  }
 },
 "nbformat": 4,
 "nbformat_minor": 5
}
