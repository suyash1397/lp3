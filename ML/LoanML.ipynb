{
 "cells": [
  {
   "cell_type": "code",
   "execution_count": 48,
   "id": "5e9299f3-b9e3-44f2-8c36-1ed75dbbdfb4",
   "metadata": {},
   "outputs": [],
   "source": [
    "import pandas as pd\n",
    "import numpy as np\n",
    "import matplotlib.pyplot as plt\n",
    "import seaborn as sb\n",
    "from warnings import filterwarnings\n",
    "filterwarnings(\"ignore\")\n",
    "train = pd.read_csv(\"Datasets/train_Loan.csv\")\n",
    "test = pd.read_csv(\"Datasets/test_Loan.csv\")"
   ]
  },
  {
   "cell_type": "code",
   "execution_count": 49,
   "id": "a5dd14f5-eb92-461e-8cf7-852f80fd186b",
   "metadata": {},
   "outputs": [],
   "source": [
    "train['Loan_Amount_Term'] = train[\"Loan_Amount_Term\"].fillna(train[\"Loan_Amount_Term\"].mode()[0])\n",
    "test['Loan_Amount_Term'] = test[\"Loan_Amount_Term\"].fillna(test[\"Loan_Amount_Term\"].mode()[0])"
   ]
  },
  {
   "cell_type": "code",
   "execution_count": 50,
   "id": "b38acbf5-1f86-434b-af57-572b441a6b8d",
   "metadata": {},
   "outputs": [],
   "source": [
    "for i in train.columns:\n",
    "    if train[i].dtypes == 'object':\n",
    "        x = train[i].mode()[0]\n",
    "        train[i] = train[i].fillna(x)\n",
    "    else:\n",
    "        x = train[i].mean()\n",
    "        train[i] = train[i].fillna(x)\n",
    "        \n",
    "for i in test.columns:\n",
    "    if test[i].dtypes == 'object':\n",
    "        x = test[i].mode()[0]\n",
    "        test[i] = test[i].fillna(x)\n",
    "    else:\n",
    "        x = test[i].mean()\n",
    "        test[i] = test[i].fillna(x)"
   ]
  },
  {
   "cell_type": "code",
   "execution_count": 51,
   "id": "d9469e8c-65c7-4d4f-bfb6-836ae076722e",
   "metadata": {},
   "outputs": [],
   "source": [
    "train_df_1 = train\n",
    "test_df_1 = test\n",
    "#Adding Applicant income and coapplicant income to make total income\n",
    "train_df_1[\"TotalIncome\"] = train_df_1[\"ApplicantIncome\"] + train_df_1[\"CoapplicantIncome\"]\n",
    "test_df_1[\"TotalIncome\"] = test_df_1[\"ApplicantIncome\"] + test_df_1[\"CoapplicantIncome\"]\n",
    "\n",
    "#And then, Dropping Applicant income and coapplicant income \n",
    "train_df_1 = train_df_1.drop([\"ApplicantIncome\",\"CoapplicantIncome\"],axis=1)\n",
    "test_df_1 = test_df_1.drop([\"ApplicantIncome\",\"CoapplicantIncome\"],axis=1)"
   ]
  },
  {
   "cell_type": "code",
   "execution_count": 52,
   "id": "06c07f6e-4dd8-4d5b-bd81-4a325e09e35e",
   "metadata": {},
   "outputs": [],
   "source": [
    "X = train_df_1.drop([\"Loan_Status\",\"Loan_ID\",\"Gender\"],axis=1)\n",
    "Y = train_df_1[[\"Loan_Status\"]]"
   ]
  },
  {
   "cell_type": "code",
   "execution_count": 53,
   "id": "22ea6318-dd99-43fd-8c1f-4355d5621781",
   "metadata": {},
   "outputs": [],
   "source": [
    "Xnew = pd.get_dummies(X)"
   ]
  },
  {
   "cell_type": "code",
   "execution_count": 54,
   "id": "8593da2e-2543-4e28-9c3c-9aa993a4dd86",
   "metadata": {},
   "outputs": [],
   "source": [
    "from sklearn.model_selection import train_test_split\n",
    "xtrain,xtest,ytrain,ytest = train_test_split(Xnew,Y,test_size=0.2,random_state=101)"
   ]
  },
  {
   "cell_type": "code",
   "execution_count": 55,
   "id": "7e343ff2-628e-4130-b4eb-eb576f20d726",
   "metadata": {},
   "outputs": [],
   "source": [
    "from sklearn.linear_model import LogisticRegression\n",
    "lr = LogisticRegression(random_state=101)\n",
    "lr_model = lr.fit(xtrain,ytrain)"
   ]
  },
  {
   "cell_type": "code",
   "execution_count": 56,
   "id": "a14855e4-bba8-4b53-b3e8-59e5d54202b5",
   "metadata": {},
   "outputs": [
    {
     "data": {
      "text/plain": [
       "0.7804878048780488"
      ]
     },
     "execution_count": 56,
     "metadata": {},
     "output_type": "execute_result"
    }
   ],
   "source": [
    "ypred=lr_model.predict(xtest)\n",
    "from sklearn.metrics import accuracy_score\n",
    "accuracy_score(ytest,ypred)"
   ]
  },
  {
   "cell_type": "code",
   "execution_count": 57,
   "id": "b4a53f27-0cd9-4c52-927a-dd5abe6363d7",
   "metadata": {},
   "outputs": [],
   "source": [
    "from sklearn.neighbors import KNeighborsClassifier\n",
    "knc = KNeighborsClassifier()\n",
    "knc_model = knc.fit(xtrain,ytrain)\n",
    "ypred_knc = knc_model.predict(xtest)"
   ]
  },
  {
   "cell_type": "code",
   "execution_count": 58,
   "id": "a0dbd108-ec6e-4e7a-a5e1-0683918dec7b",
   "metadata": {},
   "outputs": [
    {
     "data": {
      "text/plain": [
       "0.5853658536585366"
      ]
     },
     "execution_count": 58,
     "metadata": {},
     "output_type": "execute_result"
    }
   ],
   "source": [
    "from sklearn.metrics import accuracy_score,classification_report\n",
    "accuracy_score(ytest,ypred_knc)"
   ]
  },
  {
   "cell_type": "code",
   "execution_count": 59,
   "id": "f0722cb9-851f-4883-90b2-86864bf50fb6",
   "metadata": {},
   "outputs": [
    {
     "data": {
      "text/html": [
       "<div>\n",
       "<style scoped>\n",
       "    .dataframe tbody tr th:only-of-type {\n",
       "        vertical-align: middle;\n",
       "    }\n",
       "\n",
       "    .dataframe tbody tr th {\n",
       "        vertical-align: top;\n",
       "    }\n",
       "\n",
       "    .dataframe thead th {\n",
       "        text-align: right;\n",
       "    }\n",
       "</style>\n",
       "<table border=\"1\" class=\"dataframe\">\n",
       "  <thead>\n",
       "    <tr style=\"text-align: right;\">\n",
       "      <th></th>\n",
       "      <th>Loan_Status</th>\n",
       "    </tr>\n",
       "  </thead>\n",
       "  <tbody>\n",
       "    <tr>\n",
       "      <th>216</th>\n",
       "      <td>N</td>\n",
       "    </tr>\n",
       "    <tr>\n",
       "      <th>55</th>\n",
       "      <td>Y</td>\n",
       "    </tr>\n",
       "    <tr>\n",
       "      <th>593</th>\n",
       "      <td>Y</td>\n",
       "    </tr>\n",
       "    <tr>\n",
       "      <th>438</th>\n",
       "      <td>N</td>\n",
       "    </tr>\n",
       "    <tr>\n",
       "      <th>351</th>\n",
       "      <td>N</td>\n",
       "    </tr>\n",
       "    <tr>\n",
       "      <th>...</th>\n",
       "      <td>...</td>\n",
       "    </tr>\n",
       "    <tr>\n",
       "      <th>437</th>\n",
       "      <td>Y</td>\n",
       "    </tr>\n",
       "    <tr>\n",
       "      <th>283</th>\n",
       "      <td>Y</td>\n",
       "    </tr>\n",
       "    <tr>\n",
       "      <th>2</th>\n",
       "      <td>Y</td>\n",
       "    </tr>\n",
       "    <tr>\n",
       "      <th>355</th>\n",
       "      <td>Y</td>\n",
       "    </tr>\n",
       "    <tr>\n",
       "      <th>353</th>\n",
       "      <td>N</td>\n",
       "    </tr>\n",
       "  </tbody>\n",
       "</table>\n",
       "<p>123 rows × 1 columns</p>\n",
       "</div>"
      ],
      "text/plain": [
       "    Loan_Status\n",
       "216           N\n",
       "55            Y\n",
       "593           Y\n",
       "438           N\n",
       "351           N\n",
       "..          ...\n",
       "437           Y\n",
       "283           Y\n",
       "2             Y\n",
       "355           Y\n",
       "353           N\n",
       "\n",
       "[123 rows x 1 columns]"
      ]
     },
     "execution_count": 59,
     "metadata": {},
     "output_type": "execute_result"
    }
   ],
   "source": [
    "ytest"
   ]
  },
  {
   "cell_type": "code",
   "execution_count": null,
   "id": "e14a5d32-c346-4e8f-a308-1feffbd03af3",
   "metadata": {},
   "outputs": [],
   "source": []
  },
  {
   "cell_type": "code",
   "execution_count": null,
   "id": "1f2a4838-2e77-438a-8ba4-98b64ece373f",
   "metadata": {},
   "outputs": [],
   "source": []
  }
 ],
 "metadata": {
  "kernelspec": {
   "display_name": "Python 3 (ipykernel)",
   "language": "python",
   "name": "python3"
  },
  "language_info": {
   "codemirror_mode": {
    "name": "ipython",
    "version": 3
   },
   "file_extension": ".py",
   "mimetype": "text/x-python",
   "name": "python",
   "nbconvert_exporter": "python",
   "pygments_lexer": "ipython3",
   "version": "3.11.4"
  }
 },
 "nbformat": 4,
 "nbformat_minor": 5
}
